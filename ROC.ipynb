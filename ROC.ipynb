{
  "nbformat": 4,
  "nbformat_minor": 0,
  "metadata": {
    "colab": {
      "name": "ROC.ipynb",
      "provenance": [],
      "collapsed_sections": [
        "6kONjXycL46I",
        "R_u7YGrWMPdt",
        "k0qkbkiFVGVS",
        "zoc9oVerXwxN",
        "bC4Hdr-BYOUd",
        "5fXcMm-_ZgDd",
        "a50Vdm7zaPfu",
        "k2Gs3nfUeH6e",
        "769KZo9tfKwT",
        "SE6FCEdufxDB"
      ],
      "mount_file_id": "1Xt1mfP-45cDfuA8RLPQSYRheLAneSva5",
      "authorship_tag": "ABX9TyOlM0hA/07ctzt94eSEGOUF",
      "include_colab_link": true
    },
    "kernelspec": {
      "name": "python3",
      "display_name": "Python 3"
    },
    "language_info": {
      "name": "python"
    }
  },
  "cells": [
    {
      "cell_type": "markdown",
      "metadata": {
        "id": "view-in-github",
        "colab_type": "text"
      },
      "source": [
        "<a href=\"https://colab.research.google.com/github/PRAN20/ROC-Graph/blob/main/ROC.ipynb\" target=\"_parent\"><img src=\"https://colab.research.google.com/assets/colab-badge.svg\" alt=\"Open In Colab\"/></a>"
      ]
    },
    {
      "cell_type": "markdown",
      "source": [
        "# **Calculating Accuracy by Using Different Classification**"
      ],
      "metadata": {
        "id": "4m4zz4fayu1A"
      }
    },
    {
      "cell_type": "markdown",
      "source": [
        "# **Importing Header Files**"
      ],
      "metadata": {
        "id": "6kONjXycL46I"
      }
    },
    {
      "cell_type": "code",
      "execution_count": 1,
      "metadata": {
        "id": "GkgEbfzqL3vE"
      },
      "outputs": [],
      "source": [
        "import pandas as ps\n",
        "import numpy as np\n",
        "import matplotlib.pyplot as plt\n",
        "import os"
      ]
    },
    {
      "cell_type": "markdown",
      "source": [
        "# **Importing DataSet**"
      ],
      "metadata": {
        "id": "R_u7YGrWMPdt"
      }
    },
    {
      "cell_type": "code",
      "source": [
        "from google.colab import drive\n",
        "drive.mount('/content/drive')"
      ],
      "metadata": {
        "colab": {
          "base_uri": "https://localhost:8080/",
          "height": 345
        },
        "id": "KOoJEw5wPW10",
        "outputId": "5f9c2b06-a0fe-4409-de8a-e03cd5365d7c"
      },
      "execution_count": 2,
      "outputs": [
        {
          "output_type": "error",
          "ename": "MessageError",
          "evalue": "ignored",
          "traceback": [
            "\u001b[0;31m---------------------------------------------------------------------------\u001b[0m",
            "\u001b[0;31mMessageError\u001b[0m                              Traceback (most recent call last)",
            "\u001b[0;32m<ipython-input-2-d5df0069828e>\u001b[0m in \u001b[0;36m<module>\u001b[0;34m()\u001b[0m\n\u001b[1;32m      1\u001b[0m \u001b[0;32mfrom\u001b[0m \u001b[0mgoogle\u001b[0m\u001b[0;34m.\u001b[0m\u001b[0mcolab\u001b[0m \u001b[0;32mimport\u001b[0m \u001b[0mdrive\u001b[0m\u001b[0;34m\u001b[0m\u001b[0;34m\u001b[0m\u001b[0m\n\u001b[0;32m----> 2\u001b[0;31m \u001b[0mdrive\u001b[0m\u001b[0;34m.\u001b[0m\u001b[0mmount\u001b[0m\u001b[0;34m(\u001b[0m\u001b[0;34m'/content/drive'\u001b[0m\u001b[0;34m)\u001b[0m\u001b[0;34m\u001b[0m\u001b[0;34m\u001b[0m\u001b[0m\n\u001b[0m",
            "\u001b[0;32m/usr/local/lib/python3.7/dist-packages/google/colab/drive.py\u001b[0m in \u001b[0;36mmount\u001b[0;34m(mountpoint, force_remount, timeout_ms)\u001b[0m\n\u001b[1;32m    107\u001b[0m       \u001b[0mforce_remount\u001b[0m\u001b[0;34m=\u001b[0m\u001b[0mforce_remount\u001b[0m\u001b[0;34m,\u001b[0m\u001b[0;34m\u001b[0m\u001b[0;34m\u001b[0m\u001b[0m\n\u001b[1;32m    108\u001b[0m       \u001b[0mtimeout_ms\u001b[0m\u001b[0;34m=\u001b[0m\u001b[0mtimeout_ms\u001b[0m\u001b[0;34m,\u001b[0m\u001b[0;34m\u001b[0m\u001b[0;34m\u001b[0m\u001b[0m\n\u001b[0;32m--> 109\u001b[0;31m       ephemeral=True)\n\u001b[0m\u001b[1;32m    110\u001b[0m \u001b[0;34m\u001b[0m\u001b[0m\n\u001b[1;32m    111\u001b[0m \u001b[0;34m\u001b[0m\u001b[0m\n",
            "\u001b[0;32m/usr/local/lib/python3.7/dist-packages/google/colab/drive.py\u001b[0m in \u001b[0;36m_mount\u001b[0;34m(mountpoint, force_remount, timeout_ms, ephemeral)\u001b[0m\n\u001b[1;32m    122\u001b[0m   \u001b[0;32mif\u001b[0m \u001b[0mephemeral\u001b[0m\u001b[0;34m:\u001b[0m\u001b[0;34m\u001b[0m\u001b[0;34m\u001b[0m\u001b[0m\n\u001b[1;32m    123\u001b[0m     _message.blocking_request(\n\u001b[0;32m--> 124\u001b[0;31m         'request_auth', request={'authType': 'dfs_ephemeral'}, timeout_sec=None)\n\u001b[0m\u001b[1;32m    125\u001b[0m \u001b[0;34m\u001b[0m\u001b[0m\n\u001b[1;32m    126\u001b[0m   \u001b[0mmountpoint\u001b[0m \u001b[0;34m=\u001b[0m \u001b[0m_os\u001b[0m\u001b[0;34m.\u001b[0m\u001b[0mpath\u001b[0m\u001b[0;34m.\u001b[0m\u001b[0mexpanduser\u001b[0m\u001b[0;34m(\u001b[0m\u001b[0mmountpoint\u001b[0m\u001b[0;34m)\u001b[0m\u001b[0;34m\u001b[0m\u001b[0;34m\u001b[0m\u001b[0m\n",
            "\u001b[0;32m/usr/local/lib/python3.7/dist-packages/google/colab/_message.py\u001b[0m in \u001b[0;36mblocking_request\u001b[0;34m(request_type, request, timeout_sec, parent)\u001b[0m\n\u001b[1;32m    173\u001b[0m   request_id = send_request(\n\u001b[1;32m    174\u001b[0m       request_type, request, parent=parent, expect_reply=True)\n\u001b[0;32m--> 175\u001b[0;31m   \u001b[0;32mreturn\u001b[0m \u001b[0mread_reply_from_input\u001b[0m\u001b[0;34m(\u001b[0m\u001b[0mrequest_id\u001b[0m\u001b[0;34m,\u001b[0m \u001b[0mtimeout_sec\u001b[0m\u001b[0;34m)\u001b[0m\u001b[0;34m\u001b[0m\u001b[0;34m\u001b[0m\u001b[0m\n\u001b[0m",
            "\u001b[0;32m/usr/local/lib/python3.7/dist-packages/google/colab/_message.py\u001b[0m in \u001b[0;36mread_reply_from_input\u001b[0;34m(message_id, timeout_sec)\u001b[0m\n\u001b[1;32m    104\u001b[0m         reply.get('colab_msg_id') == message_id):\n\u001b[1;32m    105\u001b[0m       \u001b[0;32mif\u001b[0m \u001b[0;34m'error'\u001b[0m \u001b[0;32min\u001b[0m \u001b[0mreply\u001b[0m\u001b[0;34m:\u001b[0m\u001b[0;34m\u001b[0m\u001b[0;34m\u001b[0m\u001b[0m\n\u001b[0;32m--> 106\u001b[0;31m         \u001b[0;32mraise\u001b[0m \u001b[0mMessageError\u001b[0m\u001b[0;34m(\u001b[0m\u001b[0mreply\u001b[0m\u001b[0;34m[\u001b[0m\u001b[0;34m'error'\u001b[0m\u001b[0;34m]\u001b[0m\u001b[0;34m)\u001b[0m\u001b[0;34m\u001b[0m\u001b[0;34m\u001b[0m\u001b[0m\n\u001b[0m\u001b[1;32m    107\u001b[0m       \u001b[0;32mreturn\u001b[0m \u001b[0mreply\u001b[0m\u001b[0;34m.\u001b[0m\u001b[0mget\u001b[0m\u001b[0;34m(\u001b[0m\u001b[0;34m'data'\u001b[0m\u001b[0;34m,\u001b[0m \u001b[0;32mNone\u001b[0m\u001b[0;34m)\u001b[0m\u001b[0;34m\u001b[0m\u001b[0;34m\u001b[0m\u001b[0m\n\u001b[1;32m    108\u001b[0m \u001b[0;34m\u001b[0m\u001b[0m\n",
            "\u001b[0;31mMessageError\u001b[0m: Error: credential propagation was unsuccessful"
          ]
        }
      ]
    },
    {
      "cell_type": "code",
      "source": [
        "#os.makedirs('dataset')"
      ],
      "metadata": {
        "id": "ERRfD0VRWptc"
      },
      "execution_count": null,
      "outputs": []
    },
    {
      "cell_type": "code",
      "source": [
        "!unzip \"/content/drive/MyDrive/AlexNet-read.zip\" -d \"dataset\""
      ],
      "metadata": {
        "colab": {
          "base_uri": "https://localhost:8080/"
        },
        "id": "hO9OBgBfPdsG",
        "outputId": "cbb163b8-bf44-4e63-b6e4-85055b237fb6"
      },
      "execution_count": 3,
      "outputs": [
        {
          "output_type": "stream",
          "name": "stdout",
          "text": [
            "Archive:  /content/drive/MyDrive/AlexNet-read.zip\n",
            " extracting: dataset/content/CSV-FILES/X_test.csv  \n",
            " extracting: dataset/content/CSV-FILES/X_train.csv  \n",
            " extracting: dataset/content/CSV-FILES/y_test.csv  \n",
            " extracting: dataset/content/CSV-FILES/y_train.csv  \n"
          ]
        }
      ]
    },
    {
      "cell_type": "code",
      "source": [
        "import pandas as pd\n",
        "train_images=pd.read_csv(\"/content/dataset/content/CSV-FILES/X_train.csv\",header=None)\n",
        "x_train=train_images.iloc[:,:].values\n",
        "x_train.shape"
      ],
      "metadata": {
        "colab": {
          "base_uri": "https://localhost:8080/"
        },
        "id": "H6DW32UL-GGT",
        "outputId": "03eb2e0a-8ba4-406a-bb75-1e9833862820"
      },
      "execution_count": 4,
      "outputs": [
        {
          "output_type": "execute_result",
          "data": {
            "text/plain": [
              "(8751, 1000)"
            ]
          },
          "metadata": {},
          "execution_count": 4
        }
      ]
    },
    {
      "cell_type": "code",
      "source": [
        "train_labels=pd.read_csv(\"/content/dataset/content/CSV-FILES/y_train.csv\",header=None)\n",
        "y_train=train_labels.iloc[:,:].values\n",
        "y_train= y_train.flatten()\n",
        "y_train.shape"
      ],
      "metadata": {
        "colab": {
          "base_uri": "https://localhost:8080/"
        },
        "id": "2Fk0HwNu-RfE",
        "outputId": "3a8a17eb-048e-471a-8849-efcae1de270c"
      },
      "execution_count": 5,
      "outputs": [
        {
          "output_type": "execute_result",
          "data": {
            "text/plain": [
              "(8751,)"
            ]
          },
          "metadata": {},
          "execution_count": 5
        }
      ]
    },
    {
      "cell_type": "code",
      "source": [
        "import pandas as pd\n",
        "test_images=pd.read_csv(\"/content/dataset/content/CSV-FILES/X_test.csv\",header=None)\n",
        "x_test=test_images.iloc[:,:].values\n",
        "x_test.shape"
      ],
      "metadata": {
        "colab": {
          "base_uri": "https://localhost:8080/"
        },
        "id": "BoHjctwg-WYo",
        "outputId": "e3c23d8c-aa06-4142-fd3a-4f97186bc6cd"
      },
      "execution_count": 6,
      "outputs": [
        {
          "output_type": "execute_result",
          "data": {
            "text/plain": [
              "(10547, 1000)"
            ]
          },
          "metadata": {},
          "execution_count": 6
        }
      ]
    },
    {
      "cell_type": "code",
      "source": [
        "test_labels=pd.read_csv(\"/content/dataset/content/CSV-FILES/y_test.csv\",header=None)\n",
        "y_test=test_labels.iloc[:,:].values\n",
        "y_test= y_test.flatten()\n",
        "y_test.shape"
      ],
      "metadata": {
        "colab": {
          "base_uri": "https://localhost:8080/"
        },
        "id": "7kg4OvKA-dTk",
        "outputId": "83ed7995-1de3-41e6-993f-02593cd92bd2"
      },
      "execution_count": 7,
      "outputs": [
        {
          "output_type": "execute_result",
          "data": {
            "text/plain": [
              "(10547,)"
            ]
          },
          "metadata": {},
          "execution_count": 7
        }
      ]
    },
    {
      "cell_type": "markdown",
      "source": [
        "# **Determing The Shape of all The Data**"
      ],
      "metadata": {
        "id": "bGB5LJ4_Us8_"
      }
    },
    {
      "cell_type": "code",
      "source": [
        "x_train.shape"
      ],
      "metadata": {
        "colab": {
          "base_uri": "https://localhost:8080/"
        },
        "id": "oV5XxiucUxox",
        "outputId": "23c2cb5a-64ce-45c1-faa3-e3a00b434dcc"
      },
      "execution_count": null,
      "outputs": [
        {
          "output_type": "execute_result",
          "data": {
            "text/plain": [
              "(8751, 1000)"
            ]
          },
          "metadata": {},
          "execution_count": 17
        }
      ]
    },
    {
      "cell_type": "code",
      "source": [
        "y_train.shape"
      ],
      "metadata": {
        "colab": {
          "base_uri": "https://localhost:8080/"
        },
        "id": "qkEZXoJWU0Bk",
        "outputId": "39c46878-f7bb-4afb-f800-a648e118169e"
      },
      "execution_count": null,
      "outputs": [
        {
          "output_type": "execute_result",
          "data": {
            "text/plain": [
              "(8751,)"
            ]
          },
          "metadata": {},
          "execution_count": 18
        }
      ]
    },
    {
      "cell_type": "code",
      "source": [
        "x_test.shape"
      ],
      "metadata": {
        "colab": {
          "base_uri": "https://localhost:8080/"
        },
        "id": "39UpnG05U2rO",
        "outputId": "726ad6a0-ac43-4fcb-c895-e1f4e91f0d50"
      },
      "execution_count": null,
      "outputs": [
        {
          "output_type": "execute_result",
          "data": {
            "text/plain": [
              "(10547, 1000)"
            ]
          },
          "metadata": {},
          "execution_count": 19
        }
      ]
    },
    {
      "cell_type": "code",
      "source": [
        "y_test.shape"
      ],
      "metadata": {
        "colab": {
          "base_uri": "https://localhost:8080/"
        },
        "id": "pHjkvAiqU4LZ",
        "outputId": "67c91de8-7d83-47f2-8028-096c78234b2d"
      },
      "execution_count": null,
      "outputs": [
        {
          "output_type": "execute_result",
          "data": {
            "text/plain": [
              "(10547,)"
            ]
          },
          "metadata": {},
          "execution_count": 20
        }
      ]
    },
    {
      "cell_type": "markdown",
      "source": [
        "# **Training The MLP Model**"
      ],
      "metadata": {
        "id": "k0qkbkiFVGVS"
      }
    },
    {
      "cell_type": "code",
      "source": [
        "from sklearn.neural_network import MLPClassifier\n",
        "classifier = MLPClassifier(max_iter = 500, activation = 'relu')\n",
        "classifier.fit(x_train, y_train)"
      ],
      "metadata": {
        "colab": {
          "base_uri": "https://localhost:8080/"
        },
        "id": "HqTNKgr1VMnV",
        "outputId": "b3d405df-e111-43f8-e6ac-413fc269420b"
      },
      "execution_count": 83,
      "outputs": [
        {
          "output_type": "execute_result",
          "data": {
            "text/plain": [
              "MLPClassifier(max_iter=500)"
            ]
          },
          "metadata": {},
          "execution_count": 83
        }
      ]
    },
    {
      "cell_type": "markdown",
      "source": [
        "**Testing the Model**"
      ],
      "metadata": {
        "id": "JoqA7cxOWC86"
      }
    },
    {
      "cell_type": "code",
      "source": [
        "y_pred = classifier.predict(x_test)"
      ],
      "metadata": {
        "id": "PdJqNaJcWJqn"
      },
      "execution_count": 84,
      "outputs": []
    },
    {
      "cell_type": "code",
      "source": [
        "print(y_pred)\n",
        "y_pred.shape"
      ],
      "metadata": {
        "id": "DGFEU_IVWJru",
        "colab": {
          "base_uri": "https://localhost:8080/"
        },
        "outputId": "259ba3d3-b34d-421b-e68d-6a7145741837"
      },
      "execution_count": 85,
      "outputs": [
        {
          "output_type": "stream",
          "name": "stdout",
          "text": [
            "[36. 36. 36. ... 16.  2.  2.]\n"
          ]
        },
        {
          "output_type": "execute_result",
          "data": {
            "text/plain": [
              "(10547,)"
            ]
          },
          "metadata": {},
          "execution_count": 85
        }
      ]
    },
    {
      "cell_type": "markdown",
      "source": [
        "**Confusion Matrix**"
      ],
      "metadata": {
        "id": "Hh6_IkjtWccK"
      }
    },
    {
      "cell_type": "code",
      "source": [
        "from sklearn.metrics import confusion_matrix\n",
        "confusion_matrix(y_test,y_pred)"
      ],
      "metadata": {
        "id": "dnytOR3AWfRx",
        "colab": {
          "base_uri": "https://localhost:8080/"
        },
        "outputId": "30e3191e-e603-4741-ff34-6572b85cb147"
      },
      "execution_count": 86,
      "outputs": [
        {
          "output_type": "execute_result",
          "data": {
            "text/plain": [
              "array([[  83,    0,    0, ...,    0,    0,    0],\n",
              "       [   2,   69,    0, ...,    0,    2,    0],\n",
              "       [   1,    0,   28, ...,    3,    0,    0],\n",
              "       ...,\n",
              "       [   0,    0,    2, ..., 1052,    0,    0],\n",
              "       [   0,    0,    0, ...,    0,   72,    0],\n",
              "       [   0,    0,    0, ...,    0,    0,  321]])"
            ]
          },
          "metadata": {},
          "execution_count": 86
        }
      ]
    },
    {
      "cell_type": "markdown",
      "source": [
        "**Calculating the Accuracy of the Model**"
      ],
      "metadata": {
        "id": "39zQ9wPGWl14"
      }
    },
    {
      "cell_type": "code",
      "source": [
        "from sklearn.metrics import classification_report\n",
        "print(classification_report(y_test,y_pred))"
      ],
      "metadata": {
        "id": "UJLdXHlGWquA",
        "colab": {
          "base_uri": "https://localhost:8080/"
        },
        "outputId": "e70bfd6e-bb47-40ab-8ffc-d4a359139605"
      },
      "execution_count": 87,
      "outputs": [
        {
          "output_type": "stream",
          "name": "stdout",
          "text": [
            "              precision    recall  f1-score   support\n",
            "\n",
            "         0.0       0.85      0.75      0.80       110\n",
            "         1.0       0.88      0.81      0.85        85\n",
            "         2.0       0.67      0.47      0.55        60\n",
            "         3.0       0.88      0.92      0.90       266\n",
            "         4.0       0.97      0.97      0.97       229\n",
            "         5.0       0.92      0.93      0.92       228\n",
            "         6.0       0.94      0.89      0.91       202\n",
            "         7.0       0.61      0.62      0.62       104\n",
            "         8.0       0.97      0.97      0.97       233\n",
            "         9.0       0.85      0.82      0.83       222\n",
            "        10.0       0.98      0.98      0.98       221\n",
            "        11.0       0.81      0.75      0.78       220\n",
            "        12.0       0.83      0.88      0.85       232\n",
            "        13.0       0.91      0.92      0.91       220\n",
            "        14.0       0.95      0.89      0.92        79\n",
            "        15.0       0.96      0.98      0.97      1166\n",
            "        16.0       0.90      0.90      0.90       440\n",
            "        17.0       0.88      1.00      0.93        21\n",
            "        18.0       0.64      0.64      0.64       129\n",
            "        19.0       0.87      0.83      0.85       303\n",
            "        20.0       0.91      0.86      0.89       224\n",
            "        21.0       0.79      0.73      0.76       204\n",
            "        22.0       0.48      0.69      0.56        16\n",
            "        23.0       0.92      0.79      0.85       180\n",
            "        24.0       0.94      0.97      0.95       899\n",
            "        25.0       0.96      0.94      0.95       379\n",
            "        26.0       0.80      0.85      0.82       193\n",
            "        27.0       0.77      0.90      0.83       100\n",
            "        28.0       0.90      0.87      0.89       463\n",
            "        29.0       0.78      0.62      0.69       184\n",
            "        30.0       0.77      0.79      0.78       369\n",
            "        31.0       0.78      0.82      0.80       140\n",
            "        32.0       0.80      0.83      0.82       312\n",
            "        33.0       0.90      0.91      0.91       340\n",
            "        34.0       0.86      0.87      0.86       257\n",
            "        35.0       0.92      0.95      0.94      1103\n",
            "        36.0       0.92      0.92      0.92        78\n",
            "        37.0       0.95      0.96      0.95       336\n",
            "\n",
            "    accuracy                           0.89     10547\n",
            "   macro avg       0.85      0.85      0.85     10547\n",
            "weighted avg       0.89      0.89      0.89     10547\n",
            "\n"
          ]
        }
      ]
    },
    {
      "cell_type": "code",
      "source": [
        "from sklearn.metrics import accuracy_score\n",
        "mlp = accuracy_score(y_test, y_pred)\n",
        "mlp"
      ],
      "metadata": {
        "id": "pThHbjIfZUDL",
        "colab": {
          "base_uri": "https://localhost:8080/"
        },
        "outputId": "a4bf49b0-dd45-4452-b521-f8014be4038c"
      },
      "execution_count": 88,
      "outputs": [
        {
          "output_type": "execute_result",
          "data": {
            "text/plain": [
              "0.8912486963117474"
            ]
          },
          "metadata": {},
          "execution_count": 88
        }
      ]
    },
    {
      "cell_type": "markdown",
      "source": [
        "# **Naive-Bays Model**"
      ],
      "metadata": {
        "id": "zoc9oVerXwxN"
      }
    },
    {
      "cell_type": "code",
      "source": [
        "from sklearn.naive_bayes import GaussianNB\n",
        "clf = GaussianNB()\n",
        "clf.fit(x_train, y_train)"
      ],
      "metadata": {
        "colab": {
          "base_uri": "https://localhost:8080/"
        },
        "id": "zMgebDUcX0HQ",
        "outputId": "4bc34d0f-591d-4185-d530-0a35db27d4d4"
      },
      "execution_count": 14,
      "outputs": [
        {
          "output_type": "execute_result",
          "data": {
            "text/plain": [
              "GaussianNB()"
            ]
          },
          "metadata": {},
          "execution_count": 14
        }
      ]
    },
    {
      "cell_type": "code",
      "source": [
        "y_pred = clf.predict(x_test)"
      ],
      "metadata": {
        "id": "eQeoSbq3X9ki"
      },
      "execution_count": 15,
      "outputs": []
    },
    {
      "cell_type": "code",
      "source": [
        "from sklearn.metrics import confusion_matrix, accuracy_score\n",
        "cm = confusion_matrix(y_test, y_pred)\n",
        "print(cm)\n",
        "naive = accuracy_score(y_test, y_pred)\n",
        "naive"
      ],
      "metadata": {
        "id": "j83IlSrKYGr4",
        "colab": {
          "base_uri": "https://localhost:8080/"
        },
        "outputId": "6c3b208c-e2ae-4e85-a005-3a01f1f6151b"
      },
      "execution_count": 16,
      "outputs": [
        {
          "output_type": "stream",
          "name": "stdout",
          "text": [
            "[[ 59   5   1 ...   0   0   1]\n",
            " [  5  49   0 ...   0   0   0]\n",
            " [  1   0  34 ...   0   0   0]\n",
            " ...\n",
            " [  0   0   9 ... 118   0   0]\n",
            " [  3   0   0 ...   0  62   0]\n",
            " [  1   0   3 ...   0   0 238]]\n"
          ]
        },
        {
          "output_type": "execute_result",
          "data": {
            "text/plain": [
              "0.5871811889636863"
            ]
          },
          "metadata": {},
          "execution_count": 16
        }
      ]
    },
    {
      "cell_type": "code",
      "source": [
        "from sklearn.metrics import classification_report\n",
        "print(classification_report(y_test,y_pred))"
      ],
      "metadata": {
        "id": "lFf4yUNPYLxD",
        "colab": {
          "base_uri": "https://localhost:8080/"
        },
        "outputId": "9d930d11-0a38-4c49-f5bd-aec5460fb1a0"
      },
      "execution_count": 17,
      "outputs": [
        {
          "output_type": "stream",
          "name": "stdout",
          "text": [
            "              precision    recall  f1-score   support\n",
            "\n",
            "         0.0       0.34      0.54      0.42       110\n",
            "         1.0       0.34      0.58      0.43        85\n",
            "         2.0       0.20      0.57      0.30        60\n",
            "         3.0       0.45      0.68      0.55       266\n",
            "         4.0       0.89      0.78      0.83       229\n",
            "         5.0       0.65      0.39      0.49       228\n",
            "         6.0       0.68      0.74      0.71       202\n",
            "         7.0       0.39      0.50      0.44       104\n",
            "         8.0       0.79      0.90      0.84       233\n",
            "         9.0       0.70      0.56      0.62       222\n",
            "        10.0       0.95      0.84      0.89       221\n",
            "        11.0       0.26      0.26      0.26       220\n",
            "        12.0       0.54      0.82      0.65       232\n",
            "        13.0       0.31      0.85      0.46       220\n",
            "        14.0       0.88      0.67      0.76        79\n",
            "        15.0       0.66      0.68      0.67      1166\n",
            "        16.0       0.72      0.38      0.49       440\n",
            "        17.0       0.94      0.76      0.84        21\n",
            "        18.0       0.17      0.50      0.26       129\n",
            "        19.0       0.68      0.48      0.56       303\n",
            "        20.0       0.69      0.83      0.75       224\n",
            "        21.0       0.33      0.46      0.38       204\n",
            "        22.0       0.21      0.38      0.27        16\n",
            "        23.0       0.67      0.50      0.57       180\n",
            "        24.0       0.89      0.84      0.87       899\n",
            "        25.0       0.86      0.77      0.81       379\n",
            "        26.0       0.44      0.66      0.53       193\n",
            "        27.0       0.38      0.73      0.50       100\n",
            "        28.0       0.76      0.62      0.68       463\n",
            "        29.0       0.30      0.41      0.35       184\n",
            "        30.0       0.54      0.40      0.46       369\n",
            "        31.0       0.58      0.33      0.42       140\n",
            "        32.0       0.58      0.45      0.51       312\n",
            "        33.0       0.41      0.72      0.52       340\n",
            "        34.0       0.62      0.88      0.72       257\n",
            "        35.0       0.79      0.11      0.19      1103\n",
            "        36.0       0.89      0.79      0.84        78\n",
            "        37.0       0.93      0.71      0.80       336\n",
            "\n",
            "    accuracy                           0.59     10547\n",
            "   macro avg       0.59      0.61      0.57     10547\n",
            "weighted avg       0.66      0.59      0.58     10547\n",
            "\n"
          ]
        }
      ]
    },
    {
      "cell_type": "code",
      "source": [
        "from sklearn.metrics import roc_curve\n",
        "\n",
        "# roc curve for models\n",
        "fpr1, tpr1, thresh1 = roc_curve(y_test, pred_prob1[:,1], pos_label=1)\n",
        "fpr2, tpr2, thresh2 = roc_curve(y_test, pred_prob2[:,1], pos_label=1)\n",
        "\n",
        "# roc curve for tpr = fpr \n",
        "random_probs = [0 for i in range(len(y_test))]\n",
        "p_fpr, p_tpr, _ = roc_curve(y_test, random_probs, pos_label=1)"
      ],
      "metadata": {
        "id": "F4oUuBiYZbwh"
      },
      "execution_count": 19,
      "outputs": []
    },
    {
      "cell_type": "markdown",
      "source": [
        "# **Random Forest Classification**"
      ],
      "metadata": {
        "id": "bC4Hdr-BYOUd"
      }
    },
    {
      "cell_type": "code",
      "source": [
        "from sklearn.ensemble import RandomForestClassifier\n",
        "clf1 = RandomForestClassifier(n_estimators = 70, oob_score = True, n_jobs = -1,max_features = None, min_samples_leaf = 30)\n",
        "clf1.fit(x_train, y_train)"
      ],
      "metadata": {
        "id": "4F-Og9aHYRoU",
        "colab": {
          "base_uri": "https://localhost:8080/"
        },
        "outputId": "153a42e4-106e-42d2-87b9-baf68fa55c5c"
      },
      "execution_count": 24,
      "outputs": [
        {
          "output_type": "execute_result",
          "data": {
            "text/plain": [
              "RandomForestClassifier(max_features=None, min_samples_leaf=30, n_estimators=70,\n",
              "                       n_jobs=-1, oob_score=True)"
            ]
          },
          "metadata": {},
          "execution_count": 24
        }
      ]
    },
    {
      "cell_type": "code",
      "source": [
        "y_pred = clf1.predict(x_test)"
      ],
      "metadata": {
        "id": "zQtnAn3mYj6P"
      },
      "execution_count": 28,
      "outputs": []
    },
    {
      "cell_type": "code",
      "source": [
        "from sklearn.metrics import confusion_matrix, accuracy_score\n",
        "cm = confusion_matrix(y_test, y_pred)\n",
        "print(cm)\n",
        "rand = accuracy_score(y_test, y_pred)\n",
        "rand"
      ],
      "metadata": {
        "id": "yVVXb8XTYntv",
        "colab": {
          "base_uri": "https://localhost:8080/"
        },
        "outputId": "d7f768a0-7251-409a-d890-7cdaf00c6b4f"
      },
      "execution_count": 29,
      "outputs": [
        {
          "output_type": "stream",
          "name": "stdout",
          "text": [
            "[[  23    5    0 ...    4    0    1]\n",
            " [   1   41    0 ...    0    0    0]\n",
            " [   0    0    0 ...    4    0    0]\n",
            " ...\n",
            " [   0    0    0 ... 1011    0    0]\n",
            " [   0    0    0 ...    1   50    0]\n",
            " [   0    0    0 ...    0    0  271]]\n"
          ]
        },
        {
          "output_type": "execute_result",
          "data": {
            "text/plain": [
              "0.7237129041433583"
            ]
          },
          "metadata": {},
          "execution_count": 29
        }
      ]
    },
    {
      "cell_type": "code",
      "source": [
        "from sklearn.metrics import classification_report\n",
        "print(classification_report(y_test,y_pred))"
      ],
      "metadata": {
        "id": "QNwsS_e0YwGS",
        "colab": {
          "base_uri": "https://localhost:8080/"
        },
        "outputId": "551f38b0-e3f5-4696-8223-7e3d966b57ec"
      },
      "execution_count": 30,
      "outputs": [
        {
          "output_type": "stream",
          "name": "stdout",
          "text": [
            "              precision    recall  f1-score   support\n",
            "\n",
            "         0.0       0.59      0.21      0.31       110\n",
            "         1.0       0.57      0.48      0.52        85\n",
            "         2.0       0.00      0.00      0.00        60\n",
            "         3.0       0.58      0.72      0.65       266\n",
            "         4.0       0.75      0.90      0.82       229\n",
            "         5.0       0.66      0.49      0.56       228\n",
            "         6.0       0.69      0.54      0.61       202\n",
            "         7.0       0.60      0.14      0.23       104\n",
            "         8.0       0.86      0.92      0.89       233\n",
            "         9.0       0.68      0.60      0.64       222\n",
            "        10.0       0.89      0.92      0.91       221\n",
            "        11.0       0.57      0.43      0.49       220\n",
            "        12.0       0.76      0.83      0.79       232\n",
            "        13.0       0.80      0.66      0.72       220\n",
            "        14.0       0.83      0.70      0.76        79\n",
            "        15.0       0.83      0.93      0.88      1166\n",
            "        16.0       0.80      0.73      0.76       440\n",
            "        17.0       0.59      0.90      0.72        21\n",
            "        18.0       0.33      0.36      0.34       129\n",
            "        19.0       0.65      0.60      0.63       303\n",
            "        20.0       0.78      0.84      0.81       224\n",
            "        21.0       0.57      0.55      0.56       204\n",
            "        22.0       0.00      0.00      0.00        16\n",
            "        23.0       0.00      0.00      0.00       180\n",
            "        24.0       0.83      0.92      0.87       899\n",
            "        25.0       0.77      0.86      0.81       379\n",
            "        26.0       0.66      0.64      0.65       193\n",
            "        27.0       0.65      0.67      0.66       100\n",
            "        28.0       0.75      0.60      0.67       463\n",
            "        29.0       0.59      0.18      0.28       184\n",
            "        30.0       0.52      0.62      0.57       369\n",
            "        31.0       0.65      0.39      0.49       140\n",
            "        32.0       0.60      0.70      0.64       312\n",
            "        33.0       0.61      0.76      0.67       340\n",
            "        34.0       0.67      0.76      0.71       257\n",
            "        35.0       0.73      0.92      0.81      1103\n",
            "        36.0       0.85      0.64      0.73        78\n",
            "        37.0       0.81      0.81      0.81       336\n",
            "\n",
            "    accuracy                           0.72     10547\n",
            "   macro avg       0.63      0.60      0.60     10547\n",
            "weighted avg       0.70      0.72      0.70     10547\n",
            "\n"
          ]
        },
        {
          "output_type": "stream",
          "name": "stderr",
          "text": [
            "/usr/local/lib/python3.7/dist-packages/sklearn/metrics/_classification.py:1318: UndefinedMetricWarning: Precision and F-score are ill-defined and being set to 0.0 in labels with no predicted samples. Use `zero_division` parameter to control this behavior.\n",
            "  _warn_prf(average, modifier, msg_start, len(result))\n",
            "/usr/local/lib/python3.7/dist-packages/sklearn/metrics/_classification.py:1318: UndefinedMetricWarning: Precision and F-score are ill-defined and being set to 0.0 in labels with no predicted samples. Use `zero_division` parameter to control this behavior.\n",
            "  _warn_prf(average, modifier, msg_start, len(result))\n",
            "/usr/local/lib/python3.7/dist-packages/sklearn/metrics/_classification.py:1318: UndefinedMetricWarning: Precision and F-score are ill-defined and being set to 0.0 in labels with no predicted samples. Use `zero_division` parameter to control this behavior.\n",
            "  _warn_prf(average, modifier, msg_start, len(result))\n"
          ]
        }
      ]
    },
    {
      "cell_type": "markdown",
      "source": [
        "# **K-NN**"
      ],
      "metadata": {
        "id": "9B7XqvX9Yx6w"
      }
    },
    {
      "cell_type": "code",
      "source": [
        "from sklearn.neighbors import KNeighborsClassifier\n",
        "kn = KNeighborsClassifier(n_neighbors = 15, metric = 'minkowski', p = 2)\n",
        "kn.fit(x_train, y_train)"
      ],
      "metadata": {
        "id": "VPX932IJY7s7",
        "colab": {
          "base_uri": "https://localhost:8080/"
        },
        "outputId": "4394a626-d6fd-4c16-e9bf-a1501ed7f19e"
      },
      "execution_count": 31,
      "outputs": [
        {
          "output_type": "execute_result",
          "data": {
            "text/plain": [
              "KNeighborsClassifier(n_neighbors=15)"
            ]
          },
          "metadata": {},
          "execution_count": 31
        }
      ]
    },
    {
      "cell_type": "code",
      "source": [
        "y_pred = kn.predict(x_test)"
      ],
      "metadata": {
        "id": "ZZVhai57ZAie"
      },
      "execution_count": 32,
      "outputs": []
    },
    {
      "cell_type": "code",
      "source": [
        "from sklearn.metrics import confusion_matrix, accuracy_score\n",
        "cm = confusion_matrix(y_test, y_pred)\n",
        "print(cm)\n",
        "knn = accuracy_score(y_test, y_pred)\n",
        "knn"
      ],
      "metadata": {
        "id": "RBdKFKKwZEYy",
        "colab": {
          "base_uri": "https://localhost:8080/"
        },
        "outputId": "c48f068a-0d9d-455f-9b02-d5f77757ae3a"
      },
      "execution_count": null,
      "outputs": [
        {
          "output_type": "stream",
          "name": "stdout",
          "text": [
            "[[  43    3    0 ...    3    0    0]\n",
            " [   4   64    0 ...    0    0    0]\n",
            " [   1    0   16 ...    5    0    0]\n",
            " ...\n",
            " [   0    0    1 ... 1042    0    0]\n",
            " [   0    0    0 ...    0   72    0]\n",
            " [   0    0    0 ...    0    0  317]]\n"
          ]
        },
        {
          "output_type": "execute_result",
          "data": {
            "text/plain": [
              "0.8178628994026738"
            ]
          },
          "metadata": {},
          "execution_count": 48
        }
      ]
    },
    {
      "cell_type": "code",
      "source": [
        "from sklearn.metrics import classification_report\n",
        "print(classification_report(y_test,y_pred))"
      ],
      "metadata": {
        "id": "9XC1fWYCZKQi",
        "colab": {
          "base_uri": "https://localhost:8080/"
        },
        "outputId": "4cb1467b-24ea-412e-9469-2406f1460200"
      },
      "execution_count": null,
      "outputs": [
        {
          "output_type": "stream",
          "name": "stdout",
          "text": [
            "              precision    recall  f1-score   support\n",
            "\n",
            "         0.0       0.64      0.39      0.49       110\n",
            "         1.0       0.80      0.75      0.78        85\n",
            "         2.0       0.67      0.27      0.38        60\n",
            "         3.0       0.76      0.84      0.80       266\n",
            "         4.0       0.82      0.97      0.89       229\n",
            "         5.0       0.75      0.75      0.75       228\n",
            "         6.0       0.86      0.83      0.84       202\n",
            "         7.0       0.61      0.38      0.47       104\n",
            "         8.0       0.96      0.96      0.96       233\n",
            "         9.0       0.81      0.73      0.77       222\n",
            "        10.0       0.96      0.97      0.96       221\n",
            "        11.0       0.77      0.58      0.66       220\n",
            "        12.0       0.78      0.89      0.83       232\n",
            "        13.0       0.71      0.91      0.80       220\n",
            "        14.0       0.83      0.86      0.84        79\n",
            "        15.0       0.86      0.95      0.91      1166\n",
            "        16.0       0.89      0.80      0.84       440\n",
            "        17.0       0.72      1.00      0.84        21\n",
            "        18.0       0.69      0.46      0.55       129\n",
            "        19.0       0.79      0.69      0.74       303\n",
            "        20.0       0.77      0.89      0.82       224\n",
            "        21.0       0.71      0.52      0.60       204\n",
            "        22.0       0.75      0.56      0.64        16\n",
            "        23.0       0.94      0.57      0.71       180\n",
            "        24.0       0.91      0.96      0.93       899\n",
            "        25.0       0.86      0.93      0.89       379\n",
            "        26.0       0.72      0.76      0.74       193\n",
            "        27.0       0.61      0.72      0.66       100\n",
            "        28.0       0.80      0.76      0.78       463\n",
            "        29.0       0.85      0.29      0.43       184\n",
            "        30.0       0.71      0.64      0.67       369\n",
            "        31.0       0.77      0.81      0.79       140\n",
            "        32.0       0.83      0.62      0.71       312\n",
            "        33.0       0.71      0.87      0.78       340\n",
            "        34.0       0.84      0.79      0.81       257\n",
            "        35.0       0.80      0.94      0.87      1103\n",
            "        36.0       0.96      0.92      0.94        78\n",
            "        37.0       0.91      0.94      0.93       336\n",
            "\n",
            "    accuracy                           0.82     10547\n",
            "   macro avg       0.79      0.75      0.76     10547\n",
            "weighted avg       0.82      0.82      0.81     10547\n",
            "\n"
          ]
        }
      ]
    },
    {
      "cell_type": "markdown",
      "source": [
        "# **Decision Tree**"
      ],
      "metadata": {
        "id": "5fXcMm-_ZgDd"
      }
    },
    {
      "cell_type": "code",
      "source": [
        "from sklearn.tree import DecisionTreeClassifier\n",
        "clf2 = DecisionTreeClassifier(max_depth = 10, random_state = 101, max_features = None, min_samples_leaf = 15)\n",
        "clf2.fit(x_train, y_train)"
      ],
      "metadata": {
        "id": "zurBYOxfZlCZ",
        "colab": {
          "base_uri": "https://localhost:8080/"
        },
        "outputId": "ccccb36f-5f1a-4092-efd3-5e09d6f6a2d5"
      },
      "execution_count": 33,
      "outputs": [
        {
          "output_type": "execute_result",
          "data": {
            "text/plain": [
              "DecisionTreeClassifier(max_depth=10, min_samples_leaf=15, random_state=101)"
            ]
          },
          "metadata": {},
          "execution_count": 33
        }
      ]
    },
    {
      "cell_type": "code",
      "source": [
        "y_pred = clf2.predict(x_test)"
      ],
      "metadata": {
        "id": "UCvi0HunZq1b"
      },
      "execution_count": 34,
      "outputs": []
    },
    {
      "cell_type": "code",
      "source": [
        "from sklearn.metrics import confusion_matrix, accuracy_score\n",
        "cm = confusion_matrix(y_test, y_pred)\n",
        "print(cm)\n",
        "desc = accuracy_score(y_test, y_pred)\n",
        "desc"
      ],
      "metadata": {
        "id": "oEVwQcPWZ3MM",
        "colab": {
          "base_uri": "https://localhost:8080/"
        },
        "outputId": "230cb4de-968e-4545-c01d-db0db032d79b"
      },
      "execution_count": 35,
      "outputs": [
        {
          "output_type": "stream",
          "name": "stdout",
          "text": [
            "[[  0   0   1 ...   2   0   0]\n",
            " [  0  14   0 ...   0   0   0]\n",
            " [  0   0   8 ...  10   0   0]\n",
            " ...\n",
            " [  0   0   0 ... 875   0   0]\n",
            " [  0   0   0 ...   0   0   1]\n",
            " [  0   0   4 ...   5   0 249]]\n"
          ]
        },
        {
          "output_type": "execute_result",
          "data": {
            "text/plain": [
              "0.49028159666255805"
            ]
          },
          "metadata": {},
          "execution_count": 35
        }
      ]
    },
    {
      "cell_type": "code",
      "source": [
        "from sklearn.metrics import classification_report\n",
        "print(classification_report(y_test,y_pred))"
      ],
      "metadata": {
        "id": "N81FO-JlZ8HT",
        "colab": {
          "base_uri": "https://localhost:8080/"
        },
        "outputId": "359a3fc5-94c9-4202-f78a-6ec1ab91153d"
      },
      "execution_count": 36,
      "outputs": [
        {
          "output_type": "stream",
          "name": "stdout",
          "text": [
            "              precision    recall  f1-score   support\n",
            "\n",
            "         0.0       0.00      0.00      0.00       110\n",
            "         1.0       0.36      0.16      0.23        85\n",
            "         2.0       0.11      0.13      0.12        60\n",
            "         3.0       0.53      0.52      0.53       266\n",
            "         4.0       0.08      0.01      0.02       229\n",
            "         5.0       0.56      0.26      0.35       228\n",
            "         6.0       0.51      0.10      0.17       202\n",
            "         7.0       0.00      0.00      0.00       104\n",
            "         8.0       0.87      0.69      0.77       233\n",
            "         9.0       0.53      0.24      0.33       222\n",
            "        10.0       0.96      0.81      0.87       221\n",
            "        11.0       0.47      0.26      0.34       220\n",
            "        12.0       0.74      0.65      0.69       232\n",
            "        13.0       0.24      0.08      0.12       220\n",
            "        14.0       0.61      0.24      0.35        79\n",
            "        15.0       0.86      0.71      0.78      1166\n",
            "        16.0       0.63      0.45      0.52       440\n",
            "        17.0       0.00      0.00      0.00        21\n",
            "        18.0       0.71      0.08      0.14       129\n",
            "        19.0       0.62      0.48      0.54       303\n",
            "        20.0       0.00      0.00      0.00       224\n",
            "        21.0       0.00      0.00      0.00       204\n",
            "        22.0       0.00      0.00      0.00        16\n",
            "        23.0       0.90      0.25      0.39       180\n",
            "        24.0       0.79      0.80      0.80       899\n",
            "        25.0       0.47      0.70      0.56       379\n",
            "        26.0       0.00      0.00      0.00       193\n",
            "        27.0       0.00      0.00      0.00       100\n",
            "        28.0       0.61      0.50      0.55       463\n",
            "        29.0       0.60      0.17      0.27       184\n",
            "        30.0       0.83      0.07      0.12       369\n",
            "        31.0       0.42      0.09      0.15       140\n",
            "        32.0       0.08      0.88      0.14       312\n",
            "        33.0       0.67      0.62      0.65       340\n",
            "        34.0       0.53      0.66      0.59       257\n",
            "        35.0       0.80      0.79      0.80      1103\n",
            "        36.0       0.00      0.00      0.00        78\n",
            "        37.0       0.80      0.74      0.77       336\n",
            "\n",
            "    accuracy                           0.49     10547\n",
            "   macro avg       0.45      0.32      0.33     10547\n",
            "weighted avg       0.59      0.49      0.50     10547\n",
            "\n"
          ]
        },
        {
          "output_type": "stream",
          "name": "stderr",
          "text": [
            "/usr/local/lib/python3.7/dist-packages/sklearn/metrics/_classification.py:1318: UndefinedMetricWarning: Precision and F-score are ill-defined and being set to 0.0 in labels with no predicted samples. Use `zero_division` parameter to control this behavior.\n",
            "  _warn_prf(average, modifier, msg_start, len(result))\n",
            "/usr/local/lib/python3.7/dist-packages/sklearn/metrics/_classification.py:1318: UndefinedMetricWarning: Precision and F-score are ill-defined and being set to 0.0 in labels with no predicted samples. Use `zero_division` parameter to control this behavior.\n",
            "  _warn_prf(average, modifier, msg_start, len(result))\n",
            "/usr/local/lib/python3.7/dist-packages/sklearn/metrics/_classification.py:1318: UndefinedMetricWarning: Precision and F-score are ill-defined and being set to 0.0 in labels with no predicted samples. Use `zero_division` parameter to control this behavior.\n",
            "  _warn_prf(average, modifier, msg_start, len(result))\n"
          ]
        }
      ]
    },
    {
      "cell_type": "markdown",
      "source": [
        "# **Kernel SVM**"
      ],
      "metadata": {
        "id": "a50Vdm7zaPfu"
      }
    },
    {
      "cell_type": "code",
      "source": [
        "from sklearn.svm import SVC\n",
        "classifier1 = SVC(kernel = 'linear', C =  1,  random_state = 101)\n",
        "classifier1.fit(x_train, y_train)"
      ],
      "metadata": {
        "id": "lvIY-If-aRmS",
        "colab": {
          "base_uri": "https://localhost:8080/"
        },
        "outputId": "d1a320bd-3ec3-4e2d-96f0-7137467d5435"
      },
      "execution_count": 37,
      "outputs": [
        {
          "output_type": "execute_result",
          "data": {
            "text/plain": [
              "SVC(C=1, kernel='linear', random_state=101)"
            ]
          },
          "metadata": {},
          "execution_count": 37
        }
      ]
    },
    {
      "cell_type": "code",
      "source": [
        "y_pred = classifier1.predict(x_test)"
      ],
      "metadata": {
        "id": "fYwMiz4Paa2V"
      },
      "execution_count": 38,
      "outputs": []
    },
    {
      "cell_type": "code",
      "source": [
        "from sklearn.metrics import confusion_matrix, accuracy_score\n",
        "cm = confusion_matrix(y_test, y_pred)\n",
        "print(cm)\n",
        "svm = accuracy_score(y_test, y_pred)\n",
        "svm"
      ],
      "metadata": {
        "id": "maeJvdCRajei",
        "colab": {
          "base_uri": "https://localhost:8080/"
        },
        "outputId": "e2267cba-1f24-4293-fe39-00ac8bc2b1d1"
      },
      "execution_count": 39,
      "outputs": [
        {
          "output_type": "stream",
          "name": "stdout",
          "text": [
            "[[  94    0    1 ...    0    0    0]\n",
            " [   5   71    0 ...    0    0    0]\n",
            " [   0    0   41 ...    1    0    0]\n",
            " ...\n",
            " [   0    0    4 ... 1039    0    0]\n",
            " [   0    0    0 ...    0   74    0]\n",
            " [   0    0    0 ...    0    0  310]]\n"
          ]
        },
        {
          "output_type": "execute_result",
          "data": {
            "text/plain": [
              "0.8921968332227174"
            ]
          },
          "metadata": {},
          "execution_count": 39
        }
      ]
    },
    {
      "cell_type": "code",
      "source": [
        "from sklearn.metrics import classification_report\n",
        "print(classification_report(y_test,y_pred))"
      ],
      "metadata": {
        "id": "-ln8Ozhea4TU",
        "colab": {
          "base_uri": "https://localhost:8080/"
        },
        "outputId": "a0d8ba2a-7127-43f5-ec5d-1bbb1b8352b0"
      },
      "execution_count": 40,
      "outputs": [
        {
          "output_type": "stream",
          "name": "stdout",
          "text": [
            "              precision    recall  f1-score   support\n",
            "\n",
            "         0.0       0.80      0.85      0.83       110\n",
            "         1.0       0.85      0.84      0.84        85\n",
            "         2.0       0.61      0.68      0.65        60\n",
            "         3.0       0.87      0.94      0.90       266\n",
            "         4.0       0.97      0.96      0.96       229\n",
            "         5.0       0.89      0.94      0.91       228\n",
            "         6.0       0.92      0.91      0.92       202\n",
            "         7.0       0.67      0.66      0.67       104\n",
            "         8.0       0.96      0.98      0.97       233\n",
            "         9.0       0.88      0.85      0.86       222\n",
            "        10.0       0.98      0.99      0.98       221\n",
            "        11.0       0.78      0.77      0.77       220\n",
            "        12.0       0.87      0.87      0.87       232\n",
            "        13.0       0.85      0.94      0.89       220\n",
            "        14.0       1.00      0.94      0.97        79\n",
            "        15.0       0.97      0.98      0.97      1166\n",
            "        16.0       0.88      0.92      0.90       440\n",
            "        17.0       0.91      0.95      0.93        21\n",
            "        18.0       0.75      0.62      0.68       129\n",
            "        19.0       0.85      0.86      0.86       303\n",
            "        20.0       0.86      0.89      0.88       224\n",
            "        21.0       0.76      0.74      0.75       204\n",
            "        22.0       0.71      0.75      0.73        16\n",
            "        23.0       0.93      0.76      0.84       180\n",
            "        24.0       0.95      0.97      0.96       899\n",
            "        25.0       0.94      0.95      0.94       379\n",
            "        26.0       0.86      0.82      0.84       193\n",
            "        27.0       0.79      0.89      0.84       100\n",
            "        28.0       0.92      0.84      0.88       463\n",
            "        29.0       0.74      0.62      0.67       184\n",
            "        30.0       0.80      0.78      0.79       369\n",
            "        31.0       0.75      0.84      0.79       140\n",
            "        32.0       0.85      0.79      0.82       312\n",
            "        33.0       0.88      0.90      0.89       340\n",
            "        34.0       0.83      0.86      0.84       257\n",
            "        35.0       0.93      0.94      0.94      1103\n",
            "        36.0       0.99      0.95      0.97        78\n",
            "        37.0       0.95      0.92      0.94       336\n",
            "\n",
            "    accuracy                           0.89     10547\n",
            "   macro avg       0.86      0.86      0.86     10547\n",
            "weighted avg       0.89      0.89      0.89     10547\n",
            "\n"
          ]
        }
      ]
    },
    {
      "cell_type": "markdown",
      "source": [
        "# **Linear SVC**"
      ],
      "metadata": {
        "id": "k2Gs3nfUeH6e"
      }
    },
    {
      "cell_type": "code",
      "source": [
        "from sklearn.svm import LinearSVC\n",
        "class3 = LinearSVC(random_state=0, tol=1e-5)\n",
        "class3.fit(x_train, y_train)"
      ],
      "metadata": {
        "id": "-u4a6K9edUo8",
        "colab": {
          "base_uri": "https://localhost:8080/"
        },
        "outputId": "7b47e23b-309f-42b0-a2df-6ee2907d42ca"
      },
      "execution_count": 41,
      "outputs": [
        {
          "output_type": "stream",
          "name": "stderr",
          "text": [
            "/usr/local/lib/python3.7/dist-packages/sklearn/svm/_base.py:1208: ConvergenceWarning: Liblinear failed to converge, increase the number of iterations.\n",
            "  ConvergenceWarning,\n"
          ]
        },
        {
          "output_type": "execute_result",
          "data": {
            "text/plain": [
              "LinearSVC(random_state=0, tol=1e-05)"
            ]
          },
          "metadata": {},
          "execution_count": 41
        }
      ]
    },
    {
      "cell_type": "code",
      "source": [
        "y_pred = class3.predict(x_test)"
      ],
      "metadata": {
        "id": "G9xocQMQeKex"
      },
      "execution_count": 42,
      "outputs": []
    },
    {
      "cell_type": "code",
      "source": [
        "from sklearn.metrics import confusion_matrix, accuracy_score\n",
        "cm = confusion_matrix(y_test, y_pred)\n",
        "print(cm)\n",
        "svc = accuracy_score(y_test, y_pred)\n",
        "svc"
      ],
      "metadata": {
        "id": "zMul4WybePmt",
        "colab": {
          "base_uri": "https://localhost:8080/"
        },
        "outputId": "a91cefe2-4304-4bf6-fab2-44827741be09"
      },
      "execution_count": 43,
      "outputs": [
        {
          "output_type": "stream",
          "name": "stdout",
          "text": [
            "[[  94    0    0 ...    0    0    0]\n",
            " [   3   68    0 ...    0    0    0]\n",
            " [   2    0   32 ...    5    0    0]\n",
            " ...\n",
            " [   0    0    1 ... 1052    0    0]\n",
            " [   0    0    0 ...    0   74    0]\n",
            " [   0    0    0 ...    0    0  316]]\n"
          ]
        },
        {
          "output_type": "execute_result",
          "data": {
            "text/plain": [
              "0.8912486963117474"
            ]
          },
          "metadata": {},
          "execution_count": 43
        }
      ]
    },
    {
      "cell_type": "code",
      "source": [
        "from sklearn.metrics import classification_report\n",
        "print(classification_report(y_test,y_pred))"
      ],
      "metadata": {
        "id": "1nb7ZQ4GeRis",
        "colab": {
          "base_uri": "https://localhost:8080/"
        },
        "outputId": "d32f1b2e-ef13-481f-bb6f-1ed1f98c08dc"
      },
      "execution_count": 44,
      "outputs": [
        {
          "output_type": "stream",
          "name": "stdout",
          "text": [
            "              precision    recall  f1-score   support\n",
            "\n",
            "         0.0       0.79      0.85      0.82       110\n",
            "         1.0       0.80      0.80      0.80        85\n",
            "         2.0       0.68      0.53      0.60        60\n",
            "         3.0       0.89      0.90      0.89       266\n",
            "         4.0       0.96      0.98      0.97       229\n",
            "         5.0       0.91      0.94      0.93       228\n",
            "         6.0       0.91      0.89      0.90       202\n",
            "         7.0       0.69      0.65      0.67       104\n",
            "         8.0       0.97      0.97      0.97       233\n",
            "         9.0       0.88      0.86      0.87       222\n",
            "        10.0       0.98      0.99      0.99       221\n",
            "        11.0       0.80      0.80      0.80       220\n",
            "        12.0       0.88      0.87      0.88       232\n",
            "        13.0       0.90      0.94      0.92       220\n",
            "        14.0       0.99      0.94      0.96        79\n",
            "        15.0       0.97      0.98      0.97      1166\n",
            "        16.0       0.87      0.91      0.89       440\n",
            "        17.0       0.88      1.00      0.93        21\n",
            "        18.0       0.72      0.55      0.62       129\n",
            "        19.0       0.88      0.88      0.88       303\n",
            "        20.0       0.88      0.89      0.89       224\n",
            "        21.0       0.80      0.71      0.75       204\n",
            "        22.0       0.69      0.69      0.69        16\n",
            "        23.0       0.92      0.86      0.89       180\n",
            "        24.0       0.95      0.97      0.96       899\n",
            "        25.0       0.94      0.96      0.95       379\n",
            "        26.0       0.84      0.84      0.84       193\n",
            "        27.0       0.83      0.90      0.87       100\n",
            "        28.0       0.90      0.83      0.86       463\n",
            "        29.0       0.72      0.56      0.63       184\n",
            "        30.0       0.72      0.75      0.74       369\n",
            "        31.0       0.77      0.85      0.81       140\n",
            "        32.0       0.83      0.76      0.79       312\n",
            "        33.0       0.87      0.92      0.89       340\n",
            "        34.0       0.81      0.86      0.83       257\n",
            "        35.0       0.92      0.95      0.94      1103\n",
            "        36.0       0.91      0.95      0.93        78\n",
            "        37.0       0.94      0.94      0.94       336\n",
            "\n",
            "    accuracy                           0.89     10547\n",
            "   macro avg       0.86      0.85      0.85     10547\n",
            "weighted avg       0.89      0.89      0.89     10547\n",
            "\n"
          ]
        }
      ]
    },
    {
      "cell_type": "markdown",
      "source": [
        "# **Logistic Regression**"
      ],
      "metadata": {
        "id": "769KZo9tfKwT"
      }
    },
    {
      "cell_type": "code",
      "source": [
        "from sklearn.linear_model import LogisticRegression\n",
        "classifier4 = LogisticRegression(random_state = 0)\n",
        "classifier4.fit(x_train, y_train)"
      ],
      "metadata": {
        "id": "fctRHs56fNiN",
        "colab": {
          "base_uri": "https://localhost:8080/"
        },
        "outputId": "594b0dd7-b5f1-4e19-e448-6040a0055643"
      },
      "execution_count": 45,
      "outputs": [
        {
          "output_type": "stream",
          "name": "stderr",
          "text": [
            "/usr/local/lib/python3.7/dist-packages/sklearn/linear_model/_logistic.py:818: ConvergenceWarning: lbfgs failed to converge (status=1):\n",
            "STOP: TOTAL NO. of ITERATIONS REACHED LIMIT.\n",
            "\n",
            "Increase the number of iterations (max_iter) or scale the data as shown in:\n",
            "    https://scikit-learn.org/stable/modules/preprocessing.html\n",
            "Please also refer to the documentation for alternative solver options:\n",
            "    https://scikit-learn.org/stable/modules/linear_model.html#logistic-regression\n",
            "  extra_warning_msg=_LOGISTIC_SOLVER_CONVERGENCE_MSG,\n"
          ]
        },
        {
          "output_type": "execute_result",
          "data": {
            "text/plain": [
              "LogisticRegression(random_state=0)"
            ]
          },
          "metadata": {},
          "execution_count": 45
        }
      ]
    },
    {
      "cell_type": "code",
      "source": [
        "y_pred = classifier4.predict(x_test)"
      ],
      "metadata": {
        "id": "M6bXOv1EfVVA"
      },
      "execution_count": 46,
      "outputs": []
    },
    {
      "cell_type": "code",
      "source": [
        "from sklearn.metrics import confusion_matrix, accuracy_score\n",
        "cm = confusion_matrix(y_test, y_pred)\n",
        "print(cm)\n",
        "logis = accuracy_score(y_test, y_pred)\n",
        "logis"
      ],
      "metadata": {
        "id": "ntsN9C5TfYaO",
        "colab": {
          "base_uri": "https://localhost:8080/"
        },
        "outputId": "7ff0cacf-3cd1-40b5-8d74-6624b30928f8"
      },
      "execution_count": 47,
      "outputs": [
        {
          "output_type": "stream",
          "name": "stdout",
          "text": [
            "[[  85    0    0 ...    0    0    0]\n",
            " [   3   68    0 ...    0    1    0]\n",
            " [   0    0   30 ...    4    0    0]\n",
            " ...\n",
            " [   0    0    1 ... 1045    0    0]\n",
            " [   0    0    0 ...    0   72    0]\n",
            " [   0    0    0 ...    0    0  306]]\n"
          ]
        },
        {
          "output_type": "execute_result",
          "data": {
            "text/plain": [
              "0.8919123921494264"
            ]
          },
          "metadata": {},
          "execution_count": 47
        }
      ]
    },
    {
      "cell_type": "code",
      "source": [
        "from sklearn.metrics import classification_report\n",
        "print(classification_report(y_test,y_pred))"
      ],
      "metadata": {
        "id": "QW2zSgT8fhPY",
        "colab": {
          "base_uri": "https://localhost:8080/"
        },
        "outputId": "08c37915-7480-4725-a961-b3e2925a0e60"
      },
      "execution_count": 48,
      "outputs": [
        {
          "output_type": "stream",
          "name": "stdout",
          "text": [
            "              precision    recall  f1-score   support\n",
            "\n",
            "         0.0       0.81      0.77      0.79       110\n",
            "         1.0       0.86      0.80      0.83        85\n",
            "         2.0       0.68      0.50      0.58        60\n",
            "         3.0       0.87      0.93      0.90       266\n",
            "         4.0       0.97      0.97      0.97       229\n",
            "         5.0       0.93      0.93      0.93       228\n",
            "         6.0       0.96      0.90      0.93       202\n",
            "         7.0       0.75      0.63      0.69       104\n",
            "         8.0       0.95      0.97      0.96       233\n",
            "         9.0       0.84      0.85      0.84       222\n",
            "        10.0       0.99      0.97      0.98       221\n",
            "        11.0       0.84      0.83      0.83       220\n",
            "        12.0       0.90      0.90      0.90       232\n",
            "        13.0       0.87      0.95      0.91       220\n",
            "        14.0       0.96      0.87      0.91        79\n",
            "        15.0       0.97      0.98      0.98      1166\n",
            "        16.0       0.90      0.93      0.91       440\n",
            "        17.0       0.91      0.95      0.93        21\n",
            "        18.0       0.65      0.61      0.63       129\n",
            "        19.0       0.83      0.86      0.85       303\n",
            "        20.0       0.91      0.88      0.89       224\n",
            "        21.0       0.80      0.71      0.75       204\n",
            "        22.0       0.55      0.69      0.61        16\n",
            "        23.0       0.92      0.79      0.85       180\n",
            "        24.0       0.95      0.96      0.96       899\n",
            "        25.0       0.95      0.96      0.95       379\n",
            "        26.0       0.86      0.83      0.84       193\n",
            "        27.0       0.80      0.90      0.85       100\n",
            "        28.0       0.89      0.86      0.87       463\n",
            "        29.0       0.73      0.57      0.64       184\n",
            "        30.0       0.71      0.78      0.74       369\n",
            "        31.0       0.77      0.83      0.80       140\n",
            "        32.0       0.81      0.79      0.80       312\n",
            "        33.0       0.88      0.92      0.90       340\n",
            "        34.0       0.81      0.89      0.85       257\n",
            "        35.0       0.92      0.95      0.94      1103\n",
            "        36.0       0.96      0.92      0.94        78\n",
            "        37.0       0.96      0.91      0.93       336\n",
            "\n",
            "    accuracy                           0.89     10547\n",
            "   macro avg       0.86      0.85      0.85     10547\n",
            "weighted avg       0.89      0.89      0.89     10547\n",
            "\n"
          ]
        }
      ]
    },
    {
      "cell_type": "markdown",
      "source": [
        "# **Stochastic Gradient Descent**"
      ],
      "metadata": {
        "id": "SE6FCEdufxDB"
      }
    },
    {
      "cell_type": "code",
      "source": [
        "from sklearn.linear_model import SGDClassifier\n",
        "sgd = SGDClassifier(loss = 'modified_huber', shuffle = True, random_state = 101)\n",
        "sgd.fit(x_train, y_train)"
      ],
      "metadata": {
        "id": "n194eW8bf0G7",
        "colab": {
          "base_uri": "https://localhost:8080/"
        },
        "outputId": "a30cb9fc-40b3-4c5d-efb5-bd2427fb2c51"
      },
      "execution_count": 49,
      "outputs": [
        {
          "output_type": "execute_result",
          "data": {
            "text/plain": [
              "SGDClassifier(loss='modified_huber', random_state=101)"
            ]
          },
          "metadata": {},
          "execution_count": 49
        }
      ]
    },
    {
      "cell_type": "code",
      "source": [
        "y_pred = sgd.predict(x_test)"
      ],
      "metadata": {
        "id": "Xeu90tqxgQ66"
      },
      "execution_count": 50,
      "outputs": []
    },
    {
      "cell_type": "code",
      "source": [
        "from sklearn.metrics import confusion_matrix, accuracy_score\n",
        "cm = confusion_matrix(y_test, y_pred)\n",
        "print(cm)\n",
        "stoc = accuracy_score(y_test, y_pred)\n",
        "stoc"
      ],
      "metadata": {
        "id": "BPFcFj62gXQF",
        "colab": {
          "base_uri": "https://localhost:8080/"
        },
        "outputId": "f145f5f4-1a13-4839-dade-20279385ab53"
      },
      "execution_count": 51,
      "outputs": [
        {
          "output_type": "stream",
          "name": "stdout",
          "text": [
            "[[  92    0    1 ...    0    0    0]\n",
            " [   6   68    0 ...    0    0    0]\n",
            " [   0    0   29 ...    4    0    0]\n",
            " ...\n",
            " [   0    0    2 ... 1021    0    0]\n",
            " [   0    0    0 ...    0   73    0]\n",
            " [   0    0    1 ...    0    0  317]]\n"
          ]
        },
        {
          "output_type": "execute_result",
          "data": {
            "text/plain": [
              "0.8731392813122215"
            ]
          },
          "metadata": {},
          "execution_count": 51
        }
      ]
    },
    {
      "cell_type": "code",
      "source": [
        "from sklearn.metrics import classification_report\n",
        "print(classification_report(y_test,y_pred))"
      ],
      "metadata": {
        "id": "LgO2C4rJggJP",
        "colab": {
          "base_uri": "https://localhost:8080/"
        },
        "outputId": "54e7d8b2-7669-4ee1-a6c1-b7dfde252e8a"
      },
      "execution_count": 52,
      "outputs": [
        {
          "output_type": "stream",
          "name": "stdout",
          "text": [
            "              precision    recall  f1-score   support\n",
            "\n",
            "         0.0       0.70      0.84      0.76       110\n",
            "         1.0       0.88      0.80      0.84        85\n",
            "         2.0       0.71      0.48      0.57        60\n",
            "         3.0       0.89      0.89      0.89       266\n",
            "         4.0       0.99      0.97      0.98       229\n",
            "         5.0       0.90      0.93      0.91       228\n",
            "         6.0       0.96      0.79      0.86       202\n",
            "         7.0       0.63      0.70      0.67       104\n",
            "         8.0       0.94      0.97      0.95       233\n",
            "         9.0       0.87      0.82      0.84       222\n",
            "        10.0       0.99      0.98      0.99       221\n",
            "        11.0       0.79      0.63      0.70       220\n",
            "        12.0       0.76      0.92      0.83       232\n",
            "        13.0       0.87      0.93      0.90       220\n",
            "        14.0       0.98      0.82      0.90        79\n",
            "        15.0       0.93      0.98      0.95      1166\n",
            "        16.0       0.85      0.90      0.88       440\n",
            "        17.0       0.84      1.00      0.91        21\n",
            "        18.0       0.75      0.51      0.61       129\n",
            "        19.0       0.83      0.86      0.85       303\n",
            "        20.0       0.92      0.88      0.90       224\n",
            "        21.0       0.69      0.75      0.72       204\n",
            "        22.0       0.48      0.69      0.56        16\n",
            "        23.0       0.88      0.78      0.82       180\n",
            "        24.0       0.92      0.97      0.94       899\n",
            "        25.0       0.89      0.95      0.92       379\n",
            "        26.0       0.88      0.80      0.84       193\n",
            "        27.0       0.82      0.84      0.83       100\n",
            "        28.0       0.88      0.79      0.83       463\n",
            "        29.0       0.60      0.58      0.59       184\n",
            "        30.0       0.76      0.71      0.74       369\n",
            "        31.0       0.83      0.78      0.80       140\n",
            "        32.0       0.87      0.72      0.79       312\n",
            "        33.0       0.82      0.93      0.87       340\n",
            "        34.0       0.87      0.85      0.86       257\n",
            "        35.0       0.93      0.93      0.93      1103\n",
            "        36.0       0.97      0.94      0.95        78\n",
            "        37.0       0.94      0.94      0.94       336\n",
            "\n",
            "    accuracy                           0.87     10547\n",
            "   macro avg       0.84      0.83      0.83     10547\n",
            "weighted avg       0.87      0.87      0.87     10547\n",
            "\n"
          ]
        }
      ]
    },
    {
      "cell_type": "markdown",
      "source": [
        "# **Final Results**"
      ],
      "metadata": {
        "id": "FMSHwlPuuynD"
      }
    },
    {
      "cell_type": "code",
      "source": [
        "print('Accuracy of MLP Model is {}'.format(mlp))\n",
        "print('Accuracy of Naive-Bays Model is {}'.format(naive))\n",
        "print('Accuracy of Random Forest Model is {}'.format(rand))\n",
        "print('Accuracy of K-NN Model is {}'.format(kn))\n",
        "print('Accuracy of Decision Tree Model is {}'.format(desc))\n",
        "print('Accuracy of Kernel Svm Model is {}'.format(svm))\n",
        "print('Accuracy of Linear SVC Model is {}'.format(svc))\n",
        "print('Accuracy of Logistic Regression Model is {}'.format(logis))\n",
        "print('Accuracy of Stochastic Gradient Descent Model is {}'.format(stoc))"
      ],
      "metadata": {
        "id": "TPLoNVXtu77I",
        "colab": {
          "base_uri": "https://localhost:8080/"
        },
        "outputId": "bf3a3279-4f07-4319-801e-472068afc7fb"
      },
      "execution_count": 61,
      "outputs": [
        {
          "output_type": "stream",
          "name": "stdout",
          "text": [
            "Accuracy of MLP Model is 0.8864131980658007\n",
            "Accuracy of Naive-Bays Model is 0.5871811889636863\n",
            "Accuracy of Random Forest Model is 0.7237129041433583\n",
            "Accuracy of K-NN Model is KNeighborsClassifier(n_neighbors=15)\n",
            "Accuracy of Decision Tree Model is 0.49028159666255805\n",
            "Accuracy of Kernel Svm Model is 0.8921968332227174\n",
            "Accuracy of Linear SVC Model is 0.8912486963117474\n",
            "Accuracy of Logistic Regression Model is 0.8919123921494264\n",
            "Accuracy of Stochastic Gradient Descent Model is 0.8731392813122215\n"
          ]
        }
      ]
    },
    {
      "cell_type": "code",
      "source": [
        "pred_prob1 = classifier.predict_proba(x_test) #ELM\n",
        "pred_prob2 = clf.predict_proba(x_test) #RANDOM\n",
        "pred_prob3 = clf1.predict_proba(x_test) #Naive\n",
        "pred_prob4 = kn.predict_proba(x_test) #KNN\n",
        "pred_prob5 = clf2.predict_proba(x_test) #DECISION TREE\n",
        "#pred_prob6 = classifier1.predict(x_test) #SVM\n",
        "#pred_prob7 = classifier.predict_proba(x_test) #svc\n",
        "pred_prob8 = classifier4.predict_proba(x_test)  #Logistic\n",
        "pred_prob9 = sgd.predict_proba(x_test)  #sgd"
      ],
      "metadata": {
        "id": "QoZOADq3ZPkw"
      },
      "execution_count": 79,
      "outputs": []
    },
    {
      "cell_type": "code",
      "source": [
        "from sklearn.metrics import roc_curve\n",
        "\n",
        "# roc curve for models\n",
        "fpr1, tpr1, thresh1 = roc_curve(y_test, pred_prob1[:,1], pos_label=1)\n",
        "fpr2, tpr2, thresh2 = roc_curve(y_test, pred_prob2[:,1], pos_label=1)\n",
        "fpr3, tpr3, thresh3 = roc_curve(y_test, pred_prob3[:,1], pos_label=1)\n",
        "fpr4, tpr4, thresh4 = roc_curve(y_test, pred_prob4[:,1], pos_label=1)\n",
        "fpr5, tpr5, thresh5 = roc_curve(y_test, pred_prob5[:,1], pos_label=1)\n",
        "#fpr6, tpr6, thresh6 = roc_curve(y_test, pred_prob6[:,1], pos_label=1)\n",
        "fpr7, tpr7, thresh7 = roc_curve(y_test, pred_prob7[:,1], pos_label=1)\n",
        "fpr8, tpr8, thresh8 = roc_curve(y_test, pred_prob8[:,1], pos_label=1)\n",
        "fpr9, tpr9, thresh9 = roc_curve(y_test, pred_prob9[:,1], pos_label=1)\n",
        "# roc curve for tpr = fpr \n",
        "random_probs = [0 for i in range(len(y_test))]\n",
        "p_fpr, p_tpr, _ = roc_curve(y_test, random_probs, pos_label=1)"
      ],
      "metadata": {
        "id": "KkYjxKXLgVXw"
      },
      "execution_count": 80,
      "outputs": []
    },
    {
      "cell_type": "code",
      "source": [
        "# matplotlib\n",
        "import matplotlib.pyplot as plt\n",
        "plt.style.use('seaborn')\n",
        "\n",
        "# plot roc curves\n",
        "plt.plot(fpr1, tpr1, linestyle='--',color='orange', label='LOGISTIC')\n",
        "plt.plot(fpr2, tpr2, linestyle='--',color='green', label='Naive-Bays')\n",
        "plt.plot(fpr3, tpr3, linestyle='--',color='red', label='Random Forest')\n",
        "plt.plot(fpr4, tpr4, linestyle='--',color='pink', label='Knn')\n",
        "plt.plot(fpr5, tpr5, linestyle='--',color='purple', label='Decision Tree')\n",
        "plt.plot(fpr7, tpr7, linestyle='--',color='blue', label='SVM')\n",
        "plt.plot(fpr8, tpr8, linestyle='--',color='black', label='ELM')\n",
        "plt.plot(fpr9, tpr9, linestyle='--',color='yellow', label='SGD')\n",
        "plt.plot(p_fpr, p_tpr, linestyle='--', color='blue')\n",
        "# title\n",
        "plt.title('ROC curve')\n",
        "# x label\n",
        "plt.xlabel('False Positive Rate')\n",
        "# y label\n",
        "plt.ylabel('True Positive rate')\n",
        "\n",
        "plt.legend(loc='best')\n",
        "plt.savefig('ROC',dpi=300)\n",
        "plt.show();"
      ],
      "metadata": {
        "colab": {
          "base_uri": "https://localhost:8080/",
          "height": 376
        },
        "id": "VK-GZFOUg07P",
        "outputId": "f2ec124b-f5e5-4466-9345-6c8c6f133a53"
      },
      "execution_count": 82,
      "outputs": [
        {
          "output_type": "display_data",
          "data": {
            "text/plain": [
              "<Figure size 576x396 with 1 Axes>"
            ],
            "image/png": "[encoded data removed]"
          },
          "metadata": {}
        }
      ]
    }
  ]
}